{
  "cells": [
    {
      "cell_type": "markdown",
      "metadata": {
        "colab_type": "text",
        "id": "view-in-github"
      },
      "source": [
        "<a href=\"https://colab.research.google.com/github/urbnzazo25/MLDL22-23/blob/main/Lab1/Ex1.ipynb\" target=\"_parent\"><img src=\"https://colab.research.google.com/assets/colab-badge.svg\" alt=\"Open In Colab\"/></a>"
      ]
    },
    {
      "attachments": {},
      "cell_type": "markdown",
      "metadata": {},
      "source": [
        "# Lab 1"
      ]
    },
    {
      "cell_type": "code",
      "execution_count": null,
      "metadata": {
        "colab": {
          "base_uri": "https://localhost:8080/"
        },
        "id": "0ZzYki4B9MKd",
        "outputId": "38edd0b3-b102-48f4-c177-71019a8dbd12"
      },
      "outputs": [],
      "source": [
        "# !git clone https://github.com/urbnzazo25/MLDL22-23.git"
      ]
    },
    {
      "cell_type": "code",
      "execution_count": null,
      "metadata": {},
      "outputs": [],
      "source": [
        "import sklearn\n",
        "from sklearn.datasets import load_digits, load_iris\n",
        "import numpy as np\n",
        "from sklearn.model_selection import train_test_split\n",
        "from sklearn.preprocessing import StandardScaler, MaxAbsScaler\n",
        "from sklearn.decomposition import PCA\n",
        "from sklearn.linear_model import LogisticRegression\n",
        "from sklearn.metrics import precision_recall_fscore_support\n",
        "import matplotlib.pyplot as plt\n",
        "import mpl_toolkits.mplot3d\n",
        "import pandas as pd"
      ]
    },
    {
      "cell_type": "code",
      "execution_count": null,
      "metadata": {
        "id": "VACYjwzsHj3P"
      },
      "outputs": [],
      "source": [
        "X, y = load_digits(return_X_y=True)"
      ]
    },
    {
      "cell_type": "code",
      "execution_count": null,
      "metadata": {
        "colab": {
          "base_uri": "https://localhost:8080/"
        },
        "id": "Wrjyf4ivHyXf",
        "outputId": "d7c755c1-b930-4177-e27c-45be53930d8e"
      },
      "outputs": [],
      "source": [
        "X[0].shape"
      ]
    },
    {
      "cell_type": "code",
      "execution_count": null,
      "metadata": {
        "id": "mljuMgiVIn3e"
      },
      "outputs": [],
      "source": [
        "rs = 42\n",
        "X_train, X_test, y_train, y_test = train_test_split(X, y, test_size=0.2, random_state=rs, shuffle=True, stratify=y)"
      ]
    },
    {
      "cell_type": "code",
      "execution_count": null,
      "metadata": {
        "id": "jltCNu5mJvDJ"
      },
      "outputs": [],
      "source": [
        "scaler = StandardScaler()\n",
        "X_train = scaler.fit_transform(X_train)\n",
        "X_test = scaler.transform(X_test)\n",
        "pca = PCA(0.95)\n",
        "X_train = pca.fit_transform(X_train)\n",
        "X_test = pca.transform(X_test)"
      ]
    },
    {
      "cell_type": "code",
      "execution_count": null,
      "metadata": {
        "colab": {
          "base_uri": "https://localhost:8080/",
          "height": 74
        },
        "id": "xdApCWG8KOQF",
        "outputId": "e6043aeb-8b75-4062-b40a-a5514c436e24"
      },
      "outputs": [],
      "source": [
        "regressor = LogisticRegression(solver='lbfgs')\n",
        "regressor.fit(X_train, y_train)"
      ]
    },
    {
      "cell_type": "code",
      "execution_count": null,
      "metadata": {
        "id": "9KIN94ZtKhPA"
      },
      "outputs": [],
      "source": [
        "y_pred = regressor.predict(X_test)"
      ]
    },
    {
      "cell_type": "code",
      "execution_count": null,
      "metadata": {
        "id": "H_wPw3XDK1BP"
      },
      "outputs": [],
      "source": [
        "p, r, f1, s = precision_recall_fscore_support(y_test, y_pred, average='weighted')"
      ]
    },
    {
      "cell_type": "code",
      "execution_count": null,
      "metadata": {
        "colab": {
          "base_uri": "https://localhost:8080/"
        },
        "id": "WkCgHjLULKSl",
        "outputId": "a3dfd72d-2bf5-4af6-87f9-36318a93f6cc"
      },
      "outputs": [],
      "source": [
        "print(f\"Precision: {p}\")\n",
        "print(f\"Recall: {r}\")\n",
        "print(f\"F1 score: {f1}\")"
      ]
    },
    {
      "attachments": {},
      "cell_type": "markdown",
      "metadata": {
        "id": "F5Ru5G-kNRZS"
      },
      "source": [
        "### Ex 1"
      ]
    },
    {
      "cell_type": "code",
      "execution_count": null,
      "metadata": {
        "id": "C5hVH7T_UAKV"
      },
      "outputs": [],
      "source": [
        "iris = load_iris()\n",
        "#X = iris.data\n",
        "y1 = iris.target"
      ]
    },
    {
      "cell_type": "code",
      "execution_count": null,
      "metadata": {
        "colab": {
          "base_uri": "https://localhost:8080/"
        },
        "id": "eIN-btabUIlg",
        "outputId": "438b3bff-6ea7-4f9c-9069-8178019c294a"
      },
      "outputs": [],
      "source": [
        "print(y)"
      ]
    },
    {
      "cell_type": "code",
      "execution_count": null,
      "metadata": {
        "colab": {
          "base_uri": "https://localhost:8080/",
          "height": 256
        },
        "id": "lJ8_fyR0PWEo",
        "outputId": "862638b0-29c3-4367-fcbf-fb2c6dae2da4"
      },
      "outputs": [],
      "source": [
        "np.random.seed(5)\n",
        "\n",
        "fig = plt.figure(1, figsize=(4, 3))\n",
        "plt.clf()\n",
        "\n",
        "ax = fig.add_subplot(111, projection=\"3d\", elev=48, azim=134)\n",
        "ax.set_position([0, 0, 0.95, 1])\n",
        "\n",
        "\n",
        "plt.cla()\n",
        "pca = PCA(n_components=3)\n",
        "X_pca = pca.fit_transform(X)\n",
        "\n",
        "for name, label in [(str(i), i) for i in range(0, 10)]:\n",
        "    ax.text3D(\n",
        "        X_pca[y == label, 0].mean(),\n",
        "        X_pca[y == label, 1].mean() + 1.5,\n",
        "        X_pca[y == label, 2].mean(),\n",
        "        name,\n",
        "        horizontalalignment=\"center\",\n",
        "        bbox=dict(alpha=0.5, edgecolor=\"w\", facecolor=\"w\"),\n",
        "    )\n",
        "# Reorder the labels to have colors matching the cluster results\n",
        "y1 = np.choose(y, [0, 1, 2, 3, 4, 5, 6, 7, 8, 9]).astype(float)\n",
        "ax.scatter(X_pca[:, 0], X_pca[:, 1], X_pca[:, 2], c=y1, cmap=plt.cm.nipy_spectral, edgecolor=\"k\")\n",
        "\n",
        "ax.xaxis.set_ticklabels([])\n",
        "ax.yaxis.set_ticklabels([])\n",
        "ax.zaxis.set_ticklabels([])\n",
        "\n",
        "plt.show()"
      ]
    },
    {
      "cell_type": "code",
      "execution_count": null,
      "metadata": {
        "id": "g9NGMxaDWYtz"
      },
      "outputs": [],
      "source": [
        "X1 = scaler.fit_transform(X)\n",
        "cov = np.cov(X1, rowvar=False)"
      ]
    },
    {
      "cell_type": "code",
      "execution_count": null,
      "metadata": {
        "id": "L8BB9udOXivb"
      },
      "outputs": [],
      "source": [
        "w, v = np.linalg.eig(cov)"
      ]
    },
    {
      "cell_type": "code",
      "execution_count": null,
      "metadata": {
        "id": "c-IRaGqGZRE0"
      },
      "outputs": [],
      "source": [
        "idx = np.argsort(w)[::-1]"
      ]
    },
    {
      "cell_type": "code",
      "execution_count": null,
      "metadata": {
        "id": "LeKRsPriaqnl"
      },
      "outputs": [],
      "source": [
        "v = v[:, idx]"
      ]
    },
    {
      "cell_type": "code",
      "execution_count": null,
      "metadata": {
        "id": "dTXFONyPaxHE"
      },
      "outputs": [],
      "source": [
        "X_pca = X1 @ v[:, [i for i in range(0, 15)]]"
      ]
    },
    {
      "cell_type": "code",
      "execution_count": null,
      "metadata": {
        "colab": {
          "base_uri": "https://localhost:8080/",
          "height": 256
        },
        "id": "hOf2i1Dxdr_V",
        "outputId": "c78d1cb1-6d13-4051-9836-5c007705afa6"
      },
      "outputs": [],
      "source": [
        "np.random.seed(5)\n",
        "\n",
        "fig = plt.figure(1, figsize=(4, 3))\n",
        "plt.clf()\n",
        "\n",
        "ax = fig.add_subplot(111, projection=\"3d\", elev=48, azim=134)\n",
        "ax.set_position([0, 0, 0.95, 1])\n",
        "\n",
        "\n",
        "plt.cla()\n",
        "\n",
        "for name, label in [(str(i), i) for i in range(0, 10)]:\n",
        "    ax.text3D(\n",
        "        X_pca[y == label, 0].mean(),\n",
        "        X_pca[y == label, 1].mean() + 1.5,\n",
        "        X_pca[y == label, 2].mean(),\n",
        "        name,\n",
        "        horizontalalignment=\"center\",\n",
        "        bbox=dict(alpha=0.5, edgecolor=\"w\", facecolor=\"w\"),\n",
        "    )\n",
        "# Reorder the labels to have colors matching the cluster results\n",
        "y1 = np.choose(y, [0, 1, 2, 3, 4, 5, 6, 7, 8, 9]).astype(float)\n",
        "ax.scatter(X_pca[:, 0], X_pca[:, 1], X_pca[:, 2], c=y1, cmap=plt.cm.nipy_spectral, edgecolor=\"k\")\n",
        "\n",
        "ax.xaxis.set_ticklabels([])\n",
        "ax.yaxis.set_ticklabels([])\n",
        "ax.zaxis.set_ticklabels([])\n",
        "\n",
        "plt.show()"
      ]
    },
    {
      "attachments": {},
      "cell_type": "markdown",
      "metadata": {},
      "source": [
        "### Ex 2"
      ]
    },
    {
      "cell_type": "code",
      "execution_count": null,
      "metadata": {},
      "outputs": [],
      "source": [
        "# !git clone https://github.com/zalandoresearch/fashion-mnist.git"
      ]
    },
    {
      "cell_type": "code",
      "execution_count": null,
      "metadata": {},
      "outputs": [],
      "source": [
        "import sys\n",
        "sys.path.append(r'fashion-mnist\\utils')\n",
        "import mnist_reader\n",
        "X_train, y_train = mnist_reader.load_mnist('fashion-mnist/data/fashion', kind='train')\n",
        "X_test, y_test = mnist_reader.load_mnist('fashion-mnist/data/fashion', kind='t10k')"
      ]
    },
    {
      "cell_type": "code",
      "execution_count": null,
      "metadata": {},
      "outputs": [],
      "source": [
        "n = 6\n",
        "scaler = MaxAbsScaler()\n",
        "X_t = scaler.fit_transform(X_train)\n",
        "X_t = PCA(n_components=n).fit_transform(X_t)"
      ]
    },
    {
      "cell_type": "code",
      "execution_count": null,
      "metadata": {},
      "outputs": [],
      "source": [
        "idx = np.where(y_train == 0)[0]"
      ]
    },
    {
      "cell_type": "code",
      "execution_count": null,
      "metadata": {},
      "outputs": [],
      "source": [
        "X_t, y_t = X_t[idx, :], y_train[idx]"
      ]
    },
    {
      "cell_type": "code",
      "execution_count": null,
      "metadata": {},
      "outputs": [],
      "source": [
        "fig, axs = plt.subplots(nrows=3, ncols=5, figsize=(15, 6))\n",
        "sample = X_t[np.random.choice(X_t.shape[0], 15, replace=False), :]\n",
        "for i, ax in enumerate(axs.flat):\n",
        "    ax.imshow(sample[i,:].reshape(2, 3), cmap='gray')"
      ]
    },
    {
      "attachments": {},
      "cell_type": "markdown",
      "metadata": {},
      "source": [
        "##### Now last six eigenvalues"
      ]
    },
    {
      "cell_type": "code",
      "execution_count": null,
      "metadata": {},
      "outputs": [],
      "source": [
        "X_t = scaler.fit_transform(X_train)"
      ]
    },
    {
      "cell_type": "code",
      "execution_count": null,
      "metadata": {},
      "outputs": [],
      "source": [
        "cov = np.cov(X_t, rowvar=False)\n",
        "w, v = np.linalg.eig(cov)"
      ]
    },
    {
      "cell_type": "code",
      "execution_count": null,
      "metadata": {},
      "outputs": [],
      "source": [
        "idx = np.argsort(w)\n",
        "v = v[:, idx]"
      ]
    },
    {
      "cell_type": "code",
      "execution_count": null,
      "metadata": {},
      "outputs": [],
      "source": [
        "X_pca = X_t @ v[:, [i for i in range(0, 6)]]"
      ]
    },
    {
      "cell_type": "code",
      "execution_count": null,
      "metadata": {},
      "outputs": [],
      "source": [
        "idx0 = np.where(y_train == 0)[0]"
      ]
    },
    {
      "cell_type": "code",
      "execution_count": null,
      "metadata": {},
      "outputs": [],
      "source": [
        "X_pca, y_t = X_pca[idx0, :], y_train[idx0]"
      ]
    },
    {
      "cell_type": "code",
      "execution_count": null,
      "metadata": {},
      "outputs": [],
      "source": [
        "fig, axs = plt.subplots(nrows=3, ncols=5, figsize=(15, 6))\n",
        "sample = X_pca[np.random.choice(X_pca.shape[0], 15, replace=False), :]\n",
        "for i, ax in enumerate(axs.flat):\n",
        "    ax.imshow(sample[i,:].reshape(2, 3), cmap='gray')"
      ]
    },
    {
      "attachments": {},
      "cell_type": "markdown",
      "metadata": {},
      "source": [
        "### Ex 3"
      ]
    },
    {
      "cell_type": "code",
      "execution_count": null,
      "metadata": {},
      "outputs": [],
      "source": [
        "import torch\n",
        "x = torch.rand(2, 2)\n",
        "print(x)\n",
        "y = torch.rand(2, 2)\n",
        "print(y)\n",
        "y.sub_(x)\n",
        "print(y)\n",
        "z = x.reshape(4, -1)\n",
        "z"
      ]
    },
    {
      "cell_type": "code",
      "execution_count": null,
      "metadata": {},
      "outputs": [],
      "source": [
        "a = torch.tensor([1., 2., 3.])\n",
        "b = torch.ones(3, 1)*2"
      ]
    },
    {
      "cell_type": "code",
      "execution_count": null,
      "metadata": {},
      "outputs": [],
      "source": [
        "torch.matmul(a, b)"
      ]
    },
    {
      "attachments": {},
      "cell_type": "markdown",
      "metadata": {},
      "source": [
        "### Ex 4"
      ]
    },
    {
      "cell_type": "code",
      "execution_count": null,
      "metadata": {},
      "outputs": [],
      "source": [
        "from torch.utils.data import DataLoader, Dataset\n",
        "from torchvision import transforms"
      ]
    },
    {
      "cell_type": "code",
      "execution_count": null,
      "metadata": {},
      "outputs": [],
      "source": [
        "transform = transforms.Compose([\n",
        "    transforms.ToPILImage(),\n",
        "    transforms.RandomHorizontalFlip(0.5),\n",
        "    transforms.ToTensor(),\n",
        "    transforms.Normalize((0.5, 0.5, 0.5), (0.5, 0.5, 0.5))\n",
        "])\n",
        "batch_size = 4"
      ]
    },
    {
      "cell_type": "code",
      "execution_count": null,
      "metadata": {},
      "outputs": [],
      "source": [
        "def unpickle(file):\n",
        "    import pickle\n",
        "    with open(file, 'rb') as fo:\n",
        "        dict = pickle.load(fo, encoding='bytes')\n",
        "    return dict"
      ]
    },
    {
      "cell_type": "code",
      "execution_count": null,
      "metadata": {},
      "outputs": [],
      "source": [
        "path  = './cifar-10-batches-py/'\n",
        "fp = path + 'data_batch_1'\n",
        "db = unpickle(fp)\n",
        "data = db[b'data']\n",
        "label = db[b'labels']"
      ]
    },
    {
      "cell_type": "code",
      "execution_count": null,
      "metadata": {},
      "outputs": [],
      "source": [
        "d = data[0,:]\n",
        "r = d[:1024].reshape(1024, 1)\n",
        "g = d[1024:2048].reshape(1024, 1)\n",
        "b = d[2048:].reshape(1024, 1)\n",
        "d = np.hstack((r, g, b))\n",
        "r = d.reshape(32, 32, 3)"
      ]
    },
    {
      "cell_type": "code",
      "execution_count": null,
      "metadata": {},
      "outputs": [],
      "source": [
        "class DatasetCIFAR10(Dataset):\n",
        "    def __init__(self, path, train=True, transform=None):\n",
        "        super().__init__()\n",
        "        if train:\n",
        "            for i in range(1, 6):\n",
        "                fp = path + f'data_batch_{i}'\n",
        "                db = unpickle(fp)\n",
        "                data = np.array(db[b'data'])\n",
        "                labels = np.array(db[b'labels']).reshape(data.shape[0], 1)\n",
        "                dataset = np.concatenate([labels, data], axis=1)\n",
        "                if i == 1:\n",
        "                    self.data = dataset\n",
        "                else:\n",
        "                    self.data = np.concatenate([self.data, dataset])\n",
        "        else:\n",
        "            fp = path + 'test_batch'\n",
        "            db = unpickle(fp)\n",
        "            data = np.array(db[b'data'])\n",
        "            labels = np.array(db[b'labels']).reshape(data.shape[0], 1)\n",
        "            self.data = np.concatenate([labels, data], axis=1)\n",
        "        self.transform = transform\n",
        "        \n",
        "    def __len__(self):\n",
        "        return self.data.shape[0]\n",
        "    \n",
        "    def __getitem__(self, index):\n",
        "        image = self.data[index, 1:]\n",
        "        r = image[:1024].reshape(1024, 1)\n",
        "        g = image[1024:2048].reshape(1024, 1)\n",
        "        b = image[2048:].reshape(1024, 1)\n",
        "        image = np.hstack((r, g, b))\n",
        "        image = image.reshape(32, 32, 3)\n",
        "        label = self.data[index, 0]\n",
        "        if self.transform:\n",
        "            return self.transform(image), label\n",
        "        return image.reshape(3, 32, 32), label"
      ]
    },
    {
      "cell_type": "code",
      "execution_count": null,
      "metadata": {},
      "outputs": [],
      "source": [
        "train_data = DatasetCIFAR10(path, train=True, transform=transform)\n",
        "test_data = DatasetCIFAR10(path, train=False, transform=transform)"
      ]
    },
    {
      "cell_type": "code",
      "execution_count": null,
      "metadata": {},
      "outputs": [],
      "source": [
        "train_loader = DataLoader(train_data, batch_size=64, shuffle=True)\n",
        "test_loader = DataLoader(test_data, batch_size=64, shuffle=True)"
      ]
    }
  ],
  "metadata": {
    "accelerator": "GPU",
    "colab": {
      "authorship_tag": "ABX9TyMhNMwrYg/gVeLpFZFr8G5V",
      "include_colab_link": true,
      "provenance": []
    },
    "gpuClass": "standard",
    "kernelspec": {
      "display_name": "Python 3",
      "name": "python3"
    },
    "language_info": {
      "codemirror_mode": {
        "name": "ipython",
        "version": 3
      },
      "file_extension": ".py",
      "mimetype": "text/x-python",
      "name": "python",
      "nbconvert_exporter": "python",
      "pygments_lexer": "ipython3",
      "version": "3.10.9"
    }
  },
  "nbformat": 4,
  "nbformat_minor": 0
}

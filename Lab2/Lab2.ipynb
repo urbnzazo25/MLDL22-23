{
  "cells": [
    {
      "cell_type": "markdown",
      "metadata": {
        "colab_type": "text",
        "id": "view-in-github"
      },
      "source": [
        "<a href=\"https://colab.research.google.com/github/urbnzazo25/MLDL22-23/blob/main/Lab2/Lab2.ipynb\" target=\"_parent\"><img src=\"https://colab.research.google.com/assets/colab-badge.svg\" alt=\"Open In Colab\"/></a>"
      ]
    },
    {
      "cell_type": "code",
      "execution_count": null,
      "metadata": {
        "colab": {
          "base_uri": "https://localhost:8080/"
        },
        "id": "EUQ_0J-1xebB",
        "outputId": "86dbdd31-11ee-40cd-c514-fd040f4f7819"
      },
      "outputs": [],
      "source": [
        "# !git clone https://github.com/urbnzazo25/MLDL22-23.git"
      ]
    },
    {
      "attachments": {},
      "cell_type": "markdown",
      "metadata": {},
      "source": [
        "# Lab 2"
      ]
    },
    {
      "cell_type": "code",
      "execution_count": 23,
      "metadata": {},
      "outputs": [],
      "source": [
        "import numpy as np\n",
        "import matplotlib.pyplot as plt\n",
        "import seaborn as sns\n",
        "from sklearn import datasets\n",
        "from sklearn.decomposition import PCA\n",
        "from sklearn.cluster import KMeans\n",
        "from sklearn.preprocessing import StandardScaler, MaxAbsScaler\n",
        "from sklearn.metrics import homogeneity_completeness_v_measure, silhouette_score, v_measure_score\n",
        "from sklearn.model_selection import train_test_split, cross_val_score"
      ]
    },
    {
      "attachments": {},
      "cell_type": "markdown",
      "metadata": {},
      "source": [
        "### Ex 1"
      ]
    },
    {
      "cell_type": "code",
      "execution_count": 24,
      "metadata": {},
      "outputs": [],
      "source": [
        "iris = datasets.load_iris()\n",
        "X = iris.data\n",
        "y = iris.target\n",
        "scaler = MaxAbsScaler()\n",
        "X_scaled = scaler.fit_transform(X)"
      ]
    },
    {
      "cell_type": "code",
      "execution_count": 25,
      "metadata": {},
      "outputs": [
        {
          "name": "stdout",
          "output_type": "stream",
          "text": [
            "0) rs = 0:\n",
            "\tnum_iterations = 5\n",
            "\thomogeneity = 0.8639756867013153, completeness = 0.8643954288752762, v-measure = 0.8641855068202221\n",
            "\tsilhouette = 0.5772435908622391\n",
            "1) rs = 1:\n",
            "\tnum_iterations = 5\n",
            "\thomogeneity = 0.8639756867013153, completeness = 0.8643954288752762, v-measure = 0.8641855068202221\n",
            "\tsilhouette = 0.5772435908622391\n",
            "2) rs = 2:\n",
            "\tnum_iterations = 2\n",
            "\thomogeneity = 0.8639756867013153, completeness = 0.8643954288752762, v-measure = 0.8641855068202221\n",
            "\tsilhouette = 0.5772435908622391\n",
            "3) rs = 3:\n",
            "\tnum_iterations = 5\n",
            "\thomogeneity = 0.8639756867013153, completeness = 0.8643954288752763, v-measure = 0.8641855068202222\n",
            "\tsilhouette = 0.5772435908622391\n",
            "4) rs = 4:\n",
            "\tnum_iterations = 5\n",
            "\thomogeneity = 0.8639756867013153, completeness = 0.8643954288752762, v-measure = 0.8641855068202221\n",
            "\tsilhouette = 0.5772435908622391\n",
            "5) rs = 5:\n",
            "\tnum_iterations = 3\n",
            "\thomogeneity = 0.8639756867013153, completeness = 0.8643954288752763, v-measure = 0.8641855068202222\n",
            "\tsilhouette = 0.5772435908622391\n",
            "6) rs = 6:\n",
            "\tnum_iterations = 3\n",
            "\thomogeneity = 0.8639756867013153, completeness = 0.8643954288752762, v-measure = 0.8641855068202221\n",
            "\tsilhouette = 0.5772435908622391\n",
            "7) rs = 7:\n",
            "\tnum_iterations = 2\n",
            "\thomogeneity = 0.8639756867013153, completeness = 0.8643954288752762, v-measure = 0.8641855068202221\n",
            "\tsilhouette = 0.5772435908622391\n",
            "8) rs = 8:\n",
            "\tnum_iterations = 6\n",
            "\thomogeneity = 0.8639756867013153, completeness = 0.8643954288752763, v-measure = 0.8641855068202222\n",
            "\tsilhouette = 0.5772435908622391\n",
            "9) rs = 9:\n",
            "\tnum_iterations = 4\n",
            "\thomogeneity = 0.8639756867013153, completeness = 0.8643954288752762, v-measure = 0.8641855068202221\n",
            "\tsilhouette = 0.5772435908622391\n",
            "10) rs = 10:\n",
            "\tnum_iterations = 2\n",
            "\thomogeneity = 0.8639756867013153, completeness = 0.8643954288752762, v-measure = 0.8641855068202221\n",
            "\tsilhouette = 0.5772435908622391\n",
            "11) rs = 11:\n",
            "\tnum_iterations = 2\n",
            "\thomogeneity = 0.8639756867013153, completeness = 0.8643954288752763, v-measure = 0.8641855068202222\n",
            "\tsilhouette = 0.5772435908622391\n",
            "12) rs = 12:\n",
            "\tnum_iterations = 4\n",
            "\thomogeneity = 0.8639756867013153, completeness = 0.8643954288752763, v-measure = 0.8641855068202222\n",
            "\tsilhouette = 0.5772435908622391\n",
            "13) rs = 13:\n",
            "\tnum_iterations = 5\n",
            "\thomogeneity = 0.8639756867013151, completeness = 0.8643954288752761, v-measure = 0.8641855068202221\n",
            "\tsilhouette = 0.5772435908622391\n",
            "14) rs = 14:\n",
            "\tnum_iterations = 5\n",
            "\thomogeneity = 0.8639756867013153, completeness = 0.8643954288752762, v-measure = 0.8641855068202221\n",
            "\tsilhouette = 0.5772435908622391\n",
            "15) rs = 15:\n",
            "\tnum_iterations = 7\n",
            "\thomogeneity = 0.8639756867013153, completeness = 0.8643954288752762, v-measure = 0.8641855068202221\n",
            "\tsilhouette = 0.5772435908622391\n",
            "16) rs = 16:\n",
            "\tnum_iterations = 3\n",
            "\thomogeneity = 0.8639756867013153, completeness = 0.8643954288752762, v-measure = 0.8641855068202221\n",
            "\tsilhouette = 0.5772435908622391\n",
            "17) rs = 17:\n",
            "\tnum_iterations = 3\n",
            "\thomogeneity = 0.8639756867013153, completeness = 0.8643954288752762, v-measure = 0.8641855068202221\n",
            "\tsilhouette = 0.5772435908622391\n",
            "18) rs = 18:\n",
            "\tnum_iterations = 3\n",
            "\thomogeneity = 0.8639756867013153, completeness = 0.8643954288752763, v-measure = 0.8641855068202222\n",
            "\tsilhouette = 0.5772435908622391\n",
            "19) rs = 19:\n",
            "\tnum_iterations = 6\n",
            "\thomogeneity = 0.8639756867013151, completeness = 0.8643954288752761, v-measure = 0.8641855068202221\n",
            "\tsilhouette = 0.5772435908622391\n"
          ]
        }
      ],
      "source": [
        "random_state = [i for i in range(0, 20)]\n",
        "for i, rs in enumerate(random_state):\n",
        "    km = KMeans(n_clusters=3, random_state=rs)\n",
        "    y_pred = km.fit_predict(X_scaled)\n",
        "    h, c, v = homogeneity_completeness_v_measure(y, y_pred)\n",
        "    s = silhouette_score(X_scaled, y_pred)\n",
        "    print(f\"{i}) rs = {rs}:\")\n",
        "    print(f\"\\tnum_iterations = {km.n_iter_}\")\n",
        "    print(f\"\\thomogeneity = {h}, completeness = {c}, v-measure = {v}\")\n",
        "    print(f\"\\tsilhouette = {s}\")"
      ]
    },
    {
      "cell_type": "code",
      "execution_count": 26,
      "metadata": {},
      "outputs": [
        {
          "name": "stdout",
          "output_type": "stream",
          "text": [
            "Best K according to v-measure:\n",
            "\tk = 3, num_iterations = 4\n",
            "\tv-measure = 0.8641855068202221\n",
            "\n",
            "Best K according to silhouette:\n",
            "\tk = 3, num_iterations = 4\n",
            "\tsilhouette = 0.5772435908622391\n",
            "\n"
          ]
        }
      ],
      "source": [
        "rs = 42\n",
        "num_k = [i for i in range(3, 21)]\n",
        "best_km_sv = KMeans()\n",
        "best_km_unsv = KMeans()\n",
        "best_v = 0\n",
        "best_s = 0\n",
        "for i, k in enumerate(num_k):\n",
        "    km = KMeans(n_clusters=k, random_state=rs)\n",
        "    y_pred = km.fit_predict(X_scaled)\n",
        "    h, c, v = homogeneity_completeness_v_measure(y, y_pred)\n",
        "    s = silhouette_score(X_scaled, y_pred)\n",
        "    if i == 0:\n",
        "        best_km_sv = best_km_unsv = km\n",
        "        best_v = v\n",
        "        best_s = s\n",
        "    else:\n",
        "        if v > best_v:\n",
        "            best_km_sv = km\n",
        "            best_v = v\n",
        "        if s > best_s:\n",
        "            best_km_unsv = km\n",
        "            best_s = s\n",
        "print(f\"Best K according to v-measure:\")\n",
        "print(f\"\\tk = {best_km_sv.cluster_centers_.shape[0]}, num_iterations = {best_km_sv.n_iter_}\")\n",
        "print(f\"\\tv-measure = {best_v}\\n\")\n",
        "print(f\"Best K according to silhouette:\")\n",
        "print(f\"\\tk = {best_km_unsv.cluster_centers_.shape[0]}, num_iterations = {best_km_unsv.n_iter_}\")\n",
        "print(f\"\\tsilhouette = {best_s}\\n\")"
      ]
    },
    {
      "cell_type": "code",
      "execution_count": 28,
      "metadata": {},
      "outputs": [
        {
          "data": {
            "image/png": "[encoded data removed]",
            "text/plain": [
              "<Figure size 640x480 with 1 Axes>"
            ]
          },
          "metadata": {},
          "output_type": "display_data"
        }
      ],
      "source": [
        "reduced_data = PCA(n_components=2).fit_transform(X_scaled)\n",
        "km = KMeans(n_clusters=3, random_state=rs)\n",
        "km.fit(reduced_data)\n",
        "\n",
        "# Step size of the mesh. Decrease to increase the quality of the VQ.\n",
        "h = 0.02  # point in the mesh [x_min, x_max]x[y_min, y_max].\n",
        "\n",
        "# Plot the decision boundary. For that, we will assign a color to each\n",
        "x_min, x_max = reduced_data[:, 0].min() - 1, reduced_data[:, 0].max() + 1\n",
        "y_min, y_max = reduced_data[:, 1].min() - 1, reduced_data[:, 1].max() + 1\n",
        "xx, yy = np.meshgrid(np.arange(x_min, x_max, h), np.arange(y_min, y_max, h))\n",
        "\n",
        "# Obtain labels for each point in mesh. Use last trained model.\n",
        "Z = km.predict(np.c_[xx.ravel(), yy.ravel()])\n",
        "Z = Z.reshape(xx.shape)\n",
        "\n",
        "sns.set()\n",
        "plt.figure(1)\n",
        "plt.clf()\n",
        "plt.imshow(\n",
        "   Z,\n",
        "   interpolation=\"nearest\",\n",
        "   extent=(xx.min(), xx.max(), yy.min(), yy.max()),\n",
        "   cmap='Set2',\n",
        "   aspect=\"auto\",\n",
        "   origin=\"lower\",\n",
        ")\n",
        "\n",
        "plt.scatter(reduced_data[:, 0], reduced_data[:, 1], c=iris.target, cmap='Pastel2')\n",
        "# Plot the centroids as a white X\n",
        "centroids = km.cluster_centers_\n",
        "plt.scatter(\n",
        "   centroids[:, 0],\n",
        "   centroids[:, 1],\n",
        "   marker=\"x\",\n",
        "   s=169,\n",
        "   linewidths=3,\n",
        "   zorder=10,\n",
        ")\n",
        "plt.title(\n",
        "   \"K-means clustering on the digits dataset (PCA-reduced data)\\n\"\n",
        "   \"Centroids are marked with white cross\"\n",
        ")\n",
        "plt.xlim(x_min, x_max)\n",
        "plt.ylim(y_min, y_max)\n",
        "plt.xticks(())\n",
        "plt.yticks(())\n",
        "plt.show()"
      ]
    }
  ],
  "metadata": {
    "colab": {
      "authorship_tag": "ABX9TyOGeNipuYKmS3JzRrXrF4tD",
      "include_colab_link": true,
      "provenance": []
    },
    "kernelspec": {
      "display_name": "Python 3",
      "name": "python3"
    },
    "language_info": {
      "codemirror_mode": {
        "name": "ipython",
        "version": 3
      },
      "file_extension": ".py",
      "mimetype": "text/x-python",
      "name": "python",
      "nbconvert_exporter": "python",
      "pygments_lexer": "ipython3",
      "version": "3.10.9"
    }
  },
  "nbformat": 4,
  "nbformat_minor": 0
}

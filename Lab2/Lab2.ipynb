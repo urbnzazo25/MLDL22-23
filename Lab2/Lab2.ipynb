{
  "nbformat": 4,
  "nbformat_minor": 0,
  "metadata": {
    "colab": {
      "provenance": [],
      "authorship_tag": "ABX9TyOGeNipuYKmS3JzRrXrF4tD",
      "include_colab_link": true
    },
    "kernelspec": {
      "name": "python3",
      "display_name": "Python 3"
    },
    "language_info": {
      "name": "python"
    }
  },
  "cells": [
    {
      "cell_type": "markdown",
      "metadata": {
        "id": "view-in-github",
        "colab_type": "text"
      },
      "source": [
        "<a href=\"https://colab.research.google.com/github/urbnzazo25/MLDL22-23/blob/main/Lab2/Lab2.ipynb\" target=\"_parent\"><img src=\"https://colab.research.google.com/assets/colab-badge.svg\" alt=\"Open In Colab\"/></a>"
      ]
    },
    {
      "cell_type": "code",
      "execution_count": 1,
      "metadata": {
        "colab": {
          "base_uri": "https://localhost:8080/"
        },
        "id": "EUQ_0J-1xebB",
        "outputId": "86dbdd31-11ee-40cd-c514-fd040f4f7819"
      },
      "outputs": [
        {
          "output_type": "stream",
          "name": "stdout",
          "text": [
            "Cloning into 'MLDL22-23'...\n",
            "remote: Enumerating objects: 50, done.\u001b[K\n",
            "remote: Counting objects: 100% (37/37), done.\u001b[K\n",
            "remote: Compressing objects: 100% (26/26), done.\u001b[K\n",
            "remote: Total 50 (delta 6), reused 37 (delta 6), pack-reused 13\u001b[K\n",
            "Unpacking objects: 100% (50/50), 163.38 MiB | 1.56 MiB/s, done.\n",
            "Updating files: 100% (12/12), done.\n"
          ]
        }
      ],
      "source": [
        "# !git clone https://github.com/urbnzazo25/MLDL22-23.git"
      ]
    }
  ]
}